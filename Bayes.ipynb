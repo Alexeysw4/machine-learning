{
 "cells": [
  {
   "cell_type": "code",
   "execution_count": 1,
   "id": "94d059fa",
   "metadata": {},
   "outputs": [],
   "source": [
    "import matplotlib.pyplot as plt\n",
    "import pandas as pd\n",
    "import numpy as np\n",
    "\n",
    "\n",
    "#в файлах названия болезней идут в разном порядке, я сам поменял их местами и прогнал код"
   ]
  },
  {
   "cell_type": "code",
   "execution_count": 5,
   "id": "97d86805",
   "metadata": {},
   "outputs": [
    {
     "name": "stdout",
     "output_type": "stream",
     "text": [
      "[0 0 1 1 0 1 0 0 0 1 1 0 0 1 0 0 0 1 0 1 0 1]\n",
      "[0.00044002610260370374, 5.326723903366336e-09, 0.0, 0.0001841708504459406, 2.4326799278257428e-09, 1.036509900990099e-08, 2.4752475247524758e-16, 1.2636527524752476e-07, 1.3858217821782179e-15]\n",
      "0.00044002610260370374\n",
      "0\n",
      "Левосторонний паратонзиллярный абсцесс\n"
     ]
    }
   ],
   "source": [
    "def getProb(ftCol, randomList, desiase):\n",
    "    prob=1\n",
    "    for i in range(22):\n",
    "        #ftCol.remove(0) \n",
    "        if (float(randomList[i])==1):\n",
    "            prob = prob * float(ftCol[i])*float(randomList[i])#перемножаем условные вероятности\n",
    "        \n",
    "        \n",
    "    return prob\n",
    "\n",
    "\n",
    "    \n",
    "\n",
    "if __name__==\"__main__\":\n",
    "    dataset = pd.read_csv('symptom.csv', delimiter=';', header = None)\n",
    "    datasetDisease = pd.read_csv('disease.csv', delimiter=';', header = None)\n",
    "    res = []\n",
    "    randomList = np.random.randint(2, size = 22)#рандом симптомов(имеется/не имеется)\n",
    "    print (randomList)\n",
    "    \n",
    "    symptom = dataset.iloc[1, :].values#болезни   \n",
    "    disease = datasetDisease.iloc[:,1].values#кол-во пациентов с каждой болезнью\n",
    "    diseaseNames = datasetDisease.iloc[:,0].values #названия болезней\n",
    "\n",
    "    count = len(symptom)\n",
    "    \n",
    "    for i in range (1, count):#проходимся по всем симптомам болезней\n",
    "        #print(i)\n",
    "        symptom = dataset.iloc[:, i].values\n",
    "        symptom = np.delete(symptom, 0)#убираем название болезни\n",
    "        res.append(getProb(symptom, randomList, disease)*float(disease[i])/float(disease[count]))#умножаем на вер-ть болезни\n",
    "        #print(disease[count])\n",
    "        \n",
    "    print(res)\n",
    "    maxP=max(res)\n",
    "    print(maxP)\n",
    "    index = res.index(maxP)\n",
    "    print(index)\n",
    "    \n",
    "    print(diseaseNames[index+1])\n",
    "\n"
   ]
  },
  {
   "cell_type": "code",
   "execution_count": null,
   "id": "a87de3fd",
   "metadata": {},
   "outputs": [],
   "source": []
  },
  {
   "cell_type": "code",
   "execution_count": null,
   "id": "bd268a0b",
   "metadata": {},
   "outputs": [],
   "source": []
  },
  {
   "cell_type": "code",
   "execution_count": null,
   "id": "a172a8c4",
   "metadata": {},
   "outputs": [],
   "source": []
  }
 ],
 "metadata": {
  "kernelspec": {
   "display_name": "Python 3",
   "language": "python",
   "name": "python3"
  },
  "language_info": {
   "codemirror_mode": {
    "name": "ipython",
    "version": 3
   },
   "file_extension": ".py",
   "mimetype": "text/x-python",
   "name": "python",
   "nbconvert_exporter": "python",
   "pygments_lexer": "ipython3",
   "version": "3.8.8"
  }
 },
 "nbformat": 4,
 "nbformat_minor": 5
}
